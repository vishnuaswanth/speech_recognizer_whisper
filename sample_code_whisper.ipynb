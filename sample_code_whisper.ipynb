{
  "nbformat": 4,
  "nbformat_minor": 0,
  "metadata": {
    "colab": {
      "provenance": [],
      "gpuType": "V5E1",
      "authorship_tag": "ABX9TyOQ0UPlOPB8X+AWEoDhaywE",
      "include_colab_link": true
    },
    "kernelspec": {
      "name": "python3",
      "display_name": "Python 3"
    },
    "language_info": {
      "name": "python"
    },
    "accelerator": "TPU"
  },
  "cells": [
    {
      "cell_type": "markdown",
      "metadata": {
        "id": "view-in-github",
        "colab_type": "text"
      },
      "source": [
        "<a href=\"https://colab.research.google.com/github/vishnuaswanth/speech_recognizer_whisper/blob/main/sample_code_whisper.ipynb\" target=\"_parent\"><img src=\"https://colab.research.google.com/assets/colab-badge.svg\" alt=\"Open In Colab\"/></a>"
      ]
    },
    {
      "cell_type": "code",
      "execution_count": null,
      "metadata": {
        "id": "8ml2-eDy-aTO"
      },
      "outputs": [],
      "source": []
    },
    {
      "cell_type": "code",
      "metadata": {
        "colab": {
          "base_uri": "https://localhost:8080/"
        },
        "id": "027de9dc",
        "outputId": "ded8a14c-b4af-4f72-f128-6f7ee04a06c8"
      },
      "source": [
        "!git clone https://github.com/vishnuaswanth/speech_recognizer_whisper.git"
      ],
      "execution_count": 1,
      "outputs": [
        {
          "output_type": "stream",
          "name": "stdout",
          "text": [
            "Cloning into 'speech_recognizer_whisper'...\n",
            "remote: Enumerating objects: 13, done.\u001b[K\n",
            "remote: Total 13 (delta 0), reused 0 (delta 0), pack-reused 13 (from 2)\u001b[K\n",
            "Receiving objects: 100% (13/13), 115.23 MiB | 38.28 MiB/s, done.\n"
          ]
        }
      ]
    },
    {
      "cell_type": "code",
      "source": [
        "# store the folder location\n",
        "folder_location = r\"/content/speech_recognizer_whisper/data\"\n"
      ],
      "metadata": {
        "id": "QFtQ_PZl--hU"
      },
      "execution_count": 2,
      "outputs": []
    },
    {
      "cell_type": "code",
      "source": [
        "!pip install openai-whisper"
      ],
      "metadata": {
        "colab": {
          "base_uri": "https://localhost:8080/"
        },
        "id": "zexdPATh_Vna",
        "outputId": "0eff72e8-fa0f-4b6d-9194-ecccbd55dbaa"
      },
      "execution_count": 3,
      "outputs": [
        {
          "output_type": "stream",
          "name": "stdout",
          "text": [
            "Collecting openai-whisper\n",
            "  Downloading openai_whisper-20250625.tar.gz (803 kB)\n",
            "\u001b[?25l     \u001b[90m━━━━━━━━━━━━━━━━━━━━━━━━━━━━━━━━━━━━━━━━\u001b[0m \u001b[32m0.0/803.2 kB\u001b[0m \u001b[31m?\u001b[0m eta \u001b[36m-:--:--\u001b[0m\r\u001b[2K     \u001b[91m━━━━━━━━━━━━━━━━━━━━━━━━━━━━━━━━━━━━━\u001b[0m\u001b[91m╸\u001b[0m \u001b[32m798.7/803.2 kB\u001b[0m \u001b[31m30.6 MB/s\u001b[0m eta \u001b[36m0:00:01\u001b[0m\r\u001b[2K     \u001b[90m━━━━━━━━━━━━━━━━━━━━━━━━━━━━━━━━━━━━━━\u001b[0m \u001b[32m803.2/803.2 kB\u001b[0m \u001b[31m20.9 MB/s\u001b[0m eta \u001b[36m0:00:00\u001b[0m\n",
            "\u001b[?25h  Installing build dependencies ... \u001b[?25l\u001b[?25hdone\n",
            "  Getting requirements to build wheel ... \u001b[?25l\u001b[?25hdone\n",
            "  Preparing metadata (pyproject.toml) ... \u001b[?25l\u001b[?25hdone\n",
            "Requirement already satisfied: more-itertools in /usr/lib/python3/dist-packages (from openai-whisper) (8.10.0)\n",
            "Requirement already satisfied: numba in /usr/local/lib/python3.12/dist-packages (from openai-whisper) (0.61.2)\n",
            "Requirement already satisfied: numpy in /usr/local/lib/python3.12/dist-packages (from openai-whisper) (2.0.2)\n",
            "Collecting tiktoken (from openai-whisper)\n",
            "  Downloading tiktoken-0.11.0-cp312-cp312-manylinux_2_17_x86_64.manylinux2014_x86_64.whl.metadata (6.7 kB)\n",
            "Requirement already satisfied: torch in /usr/local/lib/python3.12/dist-packages (from openai-whisper) (2.8.0+cpu)\n",
            "Requirement already satisfied: tqdm in /usr/local/lib/python3.12/dist-packages (from openai-whisper) (4.67.1)\n",
            "Collecting triton>=2 (from openai-whisper)\n",
            "  Downloading triton-3.4.0-cp312-cp312-manylinux_2_27_x86_64.manylinux_2_28_x86_64.whl.metadata (1.7 kB)\n",
            "Requirement already satisfied: setuptools>=40.8.0 in /usr/local/lib/python3.12/dist-packages (from triton>=2->openai-whisper) (75.2.0)\n",
            "Requirement already satisfied: llvmlite<0.45,>=0.44.0dev0 in /usr/local/lib/python3.12/dist-packages (from numba->openai-whisper) (0.44.0)\n",
            "Requirement already satisfied: regex>=2022.1.18 in /usr/local/lib/python3.12/dist-packages (from tiktoken->openai-whisper) (2025.9.1)\n",
            "Requirement already satisfied: requests>=2.26.0 in /usr/local/lib/python3.12/dist-packages (from tiktoken->openai-whisper) (2.32.4)\n",
            "Requirement already satisfied: filelock in /usr/local/lib/python3.12/dist-packages (from torch->openai-whisper) (3.19.1)\n",
            "Requirement already satisfied: typing-extensions>=4.10.0 in /usr/local/lib/python3.12/dist-packages (from torch->openai-whisper) (4.15.0)\n",
            "Requirement already satisfied: sympy>=1.13.3 in /usr/local/lib/python3.12/dist-packages (from torch->openai-whisper) (1.14.0)\n",
            "Requirement already satisfied: networkx in /usr/local/lib/python3.12/dist-packages (from torch->openai-whisper) (3.5)\n",
            "Requirement already satisfied: jinja2 in /usr/local/lib/python3.12/dist-packages (from torch->openai-whisper) (3.1.6)\n",
            "Requirement already satisfied: fsspec in /usr/local/lib/python3.12/dist-packages (from torch->openai-whisper) (2025.9.0)\n",
            "Requirement already satisfied: charset_normalizer<4,>=2 in /usr/local/lib/python3.12/dist-packages (from requests>=2.26.0->tiktoken->openai-whisper) (3.4.3)\n",
            "Requirement already satisfied: idna<4,>=2.5 in /usr/local/lib/python3.12/dist-packages (from requests>=2.26.0->tiktoken->openai-whisper) (3.10)\n",
            "Requirement already satisfied: urllib3<3,>=1.21.1 in /usr/local/lib/python3.12/dist-packages (from requests>=2.26.0->tiktoken->openai-whisper) (2.5.0)\n",
            "Requirement already satisfied: certifi>=2017.4.17 in /usr/local/lib/python3.12/dist-packages (from requests>=2.26.0->tiktoken->openai-whisper) (2025.8.3)\n",
            "Requirement already satisfied: mpmath<1.4,>=1.1.0 in /usr/local/lib/python3.12/dist-packages (from sympy>=1.13.3->torch->openai-whisper) (1.3.0)\n",
            "Requirement already satisfied: MarkupSafe>=2.0 in /usr/local/lib/python3.12/dist-packages (from jinja2->torch->openai-whisper) (3.0.2)\n",
            "Downloading triton-3.4.0-cp312-cp312-manylinux_2_27_x86_64.manylinux_2_28_x86_64.whl (155.6 MB)\n",
            "\u001b[2K   \u001b[90m━━━━━━━━━━━━━━━━━━━━━━━━━━━━━━━━━━━━━━━━\u001b[0m \u001b[32m155.6/155.6 MB\u001b[0m \u001b[31m3.4 MB/s\u001b[0m eta \u001b[36m0:00:00\u001b[0m\n",
            "\u001b[?25hDownloading tiktoken-0.11.0-cp312-cp312-manylinux_2_17_x86_64.manylinux2014_x86_64.whl (1.2 MB)\n",
            "\u001b[2K   \u001b[90m━━━━━━━━━━━━━━━━━━━━━━━━━━━━━━━━━━━━━━━━\u001b[0m \u001b[32m1.2/1.2 MB\u001b[0m \u001b[31m76.5 MB/s\u001b[0m eta \u001b[36m0:00:00\u001b[0m\n",
            "\u001b[?25hBuilding wheels for collected packages: openai-whisper\n",
            "  Building wheel for openai-whisper (pyproject.toml) ... \u001b[?25l\u001b[?25hdone\n",
            "  Created wheel for openai-whisper: filename=openai_whisper-20250625-py3-none-any.whl size=803979 sha256=085e7c15945d2a6283dca5122efa22eea605f422f9cd76455c9d89b40d924961\n",
            "  Stored in directory: /root/.cache/pip/wheels/61/d2/20/09ec9bef734d126cba375b15898010b6cc28578d8afdde5869\n",
            "Successfully built openai-whisper\n",
            "Installing collected packages: triton, tiktoken, openai-whisper\n",
            "Successfully installed openai-whisper-20250625 tiktoken-0.11.0 triton-3.4.0\n"
          ]
        }
      ]
    },
    {
      "cell_type": "code",
      "source": [
        "import whisper\n",
        "\n",
        "# Supported models\n",
        "models = [\"tiny\", \"base\", \"small\", \"medium\", \"large\"]\n",
        "models = [\"tiny\", \"base\", \"small\", \"medium\", \"large\"]\n",
        "\n",
        "for model_name in models:\n",
        "    print(f\"Downloading and loading: {model_name}\")\n",
        "    model = whisper.load_model(model_name)\n",
        "    # Optionally, test with a sample file:\n",
        "    result = model.transcribe(\"your_audio_file.wav\")\n",
        "    print(f\"{model_name} transcript:\", result[\"text\"])\n"
      ],
      "metadata": {
        "id": "ut5TQtyW_Sas"
      },
      "execution_count": null,
      "outputs": []
    },
    {
      "cell_type": "code",
      "source": [
        "import os\n",
        "import whisper\n",
        "\n",
        "# Load the tiny model\n",
        "model = whisper.load_model(\"tiny\")\n",
        "\n",
        "# Get all .wav files in the folder location\n",
        "audio_files = [os.path.join(folder_location, f) for f in os.listdir(folder_location) if f.endswith(\".wav\")]\n",
        "\n",
        "# Transcribe each audio file\n",
        "for audio_file in audio_files:\n",
        "    print(f\"Transcribing: {audio_file}\")\n",
        "    result = model.transcribe(audio_file)\n",
        "    print(f\"Transcript: {result['text']}\")"
      ],
      "metadata": {
        "colab": {
          "base_uri": "https://localhost:8080/"
        },
        "id": "NKCtyHx__s74",
        "outputId": "7e5ce964-d953-45c7-b9db-5481813c53c2"
      },
      "execution_count": 5,
      "outputs": [
        {
          "output_type": "stream",
          "name": "stdout",
          "text": [
            "Transcribing: /content/speech_recognizer_whisper/data/Don’t take it PERSONALLY💯 #mindset #tamilmotivation #trending #shorts #motivation #tamil.wav\n"
          ]
        },
        {
          "output_type": "stream",
          "name": "stderr",
          "text": [
            "/usr/local/lib/python3.12/dist-packages/whisper/transcribe.py:132: UserWarning: FP16 is not supported on CPU; using FP32 instead\n",
            "  warnings.warn(\"FP16 is not supported on CPU; using FP32 instead\")\n"
          ]
        },
        {
          "output_type": "stream",
          "name": "stdout",
          "text": [
            "Transcript:  பின்டதியென்று, என்று ம பப்பதில், பைவையை மறும் பножா? பேறத்துமாக வரைத் திராகக் காத்தில்работல் என்にちは? « yang இன்று பூடும் பாட்தோமண் போட்டுத்து, « நா பாட்டுங்கள் அச்சா, என்னுக்கும் பணீங்கள்», மாலித்துக் காruptில் எனக்காலியா? அதே மயருத்திரு ஏனுக் குறந்திறீர்கள். 70 வேடுமனரு நீங்கள் வேண்டும் இடு Hmong nahu இங்கு இற்பதிரு மாளித்துplane அப்பorean பந்திருந்திரு92. ''மாக ஹாகாவது விடையுங்குயே செள்லை பண்டிருடருந்து.'' நேற்றத்து weiterhin துக்காது ஆதனாடு ஆண்டிண்டு நிசரிக்கும் காலை எல்லை அணைப்புக்ய காத dotted காதலாயோம். எல்லை எல்லை எவ் anomaly குருந்தில் இருக்கிறது. ஒருமியை இப்பது உண்களுக்கோசி ஓருப் lawsuitsப் பொறுவும் படி வருயலக்கிறாருahதாலாளிக்கு. வ adjectதிகளிலே பிறகு என்ன நாற்கை எழுதுகொள்ளு Cute,)] வராவது யரிசுமக்கம்... வராவது Geoff்யும்தான் பிறகு, உங்களுட்களை செல்ல ஒள்ளே செய்தும் வருவாக வருங்களே,ativo்ய அடுதான· உங்களுட்ட நீக்க முொழுதுப்பாதது செய்துப் பனை மந்து யரிசூரிół பண்கள் அவரித்துவாகு வருவுக்கம் நான் ஏனால் பயியசிக் 아파'த இருக்கிறதுத் தாடிந்தி சில் சிலும்同லுமல்லாம் ஏன் ஒருவிக்கம்.\n",
            "Transcribing: /content/speech_recognizer_whisper/data/If by Rudyard Kipling - Read by Sir Michael Caine.wav\n"
          ]
        },
        {
          "output_type": "stream",
          "name": "stderr",
          "text": [
            "/usr/local/lib/python3.12/dist-packages/whisper/transcribe.py:132: UserWarning: FP16 is not supported on CPU; using FP32 instead\n",
            "  warnings.warn(\"FP16 is not supported on CPU; using FP32 instead\")\n"
          ]
        },
        {
          "output_type": "stream",
          "name": "stdout",
          "text": [
            "Transcript:  The Kipling poem is one of my favorites since I was a boy at school. My father read it to me once and I think it to me as a little boy, summed up what a man should be. If you can keep your head when all about you are losing their ass and blaming it on you. If you can trust yourself when all men doubt you but make allowances for their doubting too. If you can wait and not be tired by waiting, or being lied about and don't deal in lies, or being hated don't give way, dating and yet don't look too good or look too wise. If you can dream and not make dreams your master, if you can think and not make thoughts your aim. If you can meet with triumph and disaster and treat those two impostas, it's just the same. If you can hear the truth you spoken twisted by naves to make a trap for fools, or watch the things you gave your life for broken and stupid and build them up with worn out tools. If you can make one heap of all your winnings, and risk it on one turn of pitch and toss. And lose and start again the beginning. Never breathe the word in the match of loss. If you can force your heart and nerve and sin you, to serve your turn, long after they are done. And so hold on when there is nothing in you, except the will which says to them, hold on. If you can talk with crowds and keep your virtue, or walk with kings and all those who come in touch, if neither foes nor loving friends can hurt you, before men can't forgive but not too much. If you can fill the unforgiving minute with 40 seconds worth of distance run, yours is the earth and everything that's in you and which is more you'll be a man, Wysan.\n",
            "Transcribing: /content/speech_recognizer_whisper/data/Introduction - Japanese Lesson 1.wav\n"
          ]
        },
        {
          "output_type": "stream",
          "name": "stderr",
          "text": [
            "/usr/local/lib/python3.12/dist-packages/whisper/transcribe.py:132: UserWarning: FP16 is not supported on CPU; using FP32 instead\n",
            "  warnings.warn(\"FP16 is not supported on CPU; using FP32 instead\")\n"
          ]
        },
        {
          "output_type": "stream",
          "name": "stdout",
          "text": [
            "Transcript: この日は、Let's start today's lessonToday we are going to learn readingsOkFirst one isMonicCashuaおはようSonsu-likeOhaeyoOkPlease repeatOhaeyoOhaeyoOhaeyoOhaeyoOkFormaOhaeyoPlasGozaOhaeyoOhaeyoOhaeyoOhaeyoOhaeyoOhaeyoOhaeyoOhaeyoGood afternoonこんにちはこんにちはこんにちはこんにちはGood eveningこんばんはこんばんはこんばんはこんばんはGood nightGood nightさよならさよならさよならさよならさよならGood nightおやすみなさいおやすみなさいおやすみなさいおやすみなさいおやすみなさいThank you for the casual oneありがとうありがとうありがとうありがとうで、どういう名前ですGood morningかじまんはおはようパワーとフォームワーおはようございますで、きゃんゆうけすThank you for the full oneありがとうございますありがとうございますありがとうございますありがとうございますExcus meI'm sorryすみませんすみませんけりつぶらくですすみませんすみませんすみませんけりつぶらくHow do you do nice to meet youすみませんどうぞよろしくはじめましてどうぞよろしくLet's practice how do you do firstはじめましてはじめましてはじめましてNice to meet youどうぞよろしくどうぞどうぞよろしくよろしくOKとってくるどうぞよろしくどうぞよろしくOKReadyPotentはじめましてどうぞよろしくはじめましてどうぞよろしくはじめましてどうぞよろしくOKLet's practice togetherはじめましてどうぞよろしくOKLet's practice togetherはじめましてはじめましてありがとうございますこんにちはすみませんおやすみなさいさようならこんばんはフォーマルンおはようございますOKではローケストマンはじめましてどうぞよろしくどうぞよろしくでは、おはようございますでは、おはようございます\n",
            "Transcribing: /content/speech_recognizer_whisper/data/Calisthenics Explained - Are Bodyweight Exercises Good For Building Muscle？.wav\n"
          ]
        },
        {
          "output_type": "stream",
          "name": "stderr",
          "text": [
            "/usr/local/lib/python3.12/dist-packages/whisper/transcribe.py:132: UserWarning: FP16 is not supported on CPU; using FP32 instead\n",
            "  warnings.warn(\"FP16 is not supported on CPU; using FP32 instead\")\n"
          ]
        },
        {
          "output_type": "stream",
          "name": "stdout",
          "text": [
            "Transcript:  Exercise is that uses only the weight of your body as resistance are known as calistenics, and just as any other resistance training, the golden performant calistenics is to promote muscle growth in strength. Original from the Greek words calo, which means beauty, and stenos, which means strength, calistenics rose into prominence in the 19th century by the father of gymnastics, free week, Louis John, and fitting enough, there's nothing really that is a better embodiment of beauty and strength than gymnastics. As calistenics uses your body's weight as resistance, it's also known as body weight exercises, and the big question about body weight exercises is how effective it is for building muscle in strength, or if it's as effective as lifting weights. To understand this, we need to understand how muscles grow and get stronger. Muscular and strength adaptation occurs when a stimulus or resistance is applied to the corresponding muscle at a high enough intensity to invoke muscle overload. Simply put, the more weight you move with your muscles, the more your muscles adapt and become bigger and stronger. But it doesn't mean that any type of weight movement will work. Take jogging, for example, although it can be very taxing on the heart muscles and promote cardiac muscle growth, it will not promote much to skeletal muscle growth, not even in your legs. The problem here is that the stimulus is not strong enough to target all the legs muscle fibers. If you watched the muscle fibers video before, you understand that we have three different muscle fiber types, one of which is used for endurance, known as type 1, and the other two are used to provide great amounts of force known as type 2 fibers. Since running doesn't require large amounts of force from your legs, type 2 fibers are hardly fatigue and not a lot of muscle growth occurs. It's also the reason why many do not consider jogging as a calistening exercise, even though it only utilizes your body's weight. But other calistening exercises do, in fact, it listed high enough of a demand to hit those large muscle fibers. Take a pull up for example, where on average, people can hardly even do 5, the movement demands all fiber types to far and eventually exhaust, thus promoting muscle growth. Pushups are another good example of a calistening exercise that can enlist muscle growth, especially for beginners that struggle to do even 10. But eventually you will run into the problem of not having enough resistance. As tough as it may be to get your first 10 pushups, eventually 10 would be just an easy warm-up. When you start hitting 20, 25, or 30 pushups easily, then we run into the same problem as we saw with jogging. Of course, you can definitely modify the pushup to make it tougher, such as elevating your feet on a platform, but ultimately you're not changing the amount of demand on the muscle groups involved in a standard pushup, instead you begin shifting the muscles involved in the movement. The feet elevated pushups, you're anterior shoulders begin taking the run of the resistance instead of your chest. So you want to build your chest, you won't have enough resistance, and you might be thinking, why not just add some weight on your back? While at that point, it's no longer just body weight, thus no longer calistening. The next natural progression is using weights. As great as calistening can be, there will be a point where certain muscle groups, especially the strong muscle groups such as your chest, legs, and hips, will eventually need greater resistance. The muscles in calistening require you using multiple muscle groups to perform an exercise, which isn't a bad thing at all in terms of natural and functional development, but it does make it tough to isolate certain muscles. Now that's not to say that calistening cannot build an aesthetically appealing body. After all, you have guys looking like this, from performing just body weight exercises, but when you compare them to this, there's a clear difference in muscle growth between the two regiments. Heck, even Olympic gymnasts have to use weights to push their maximum potential. This is not to say that calistening has no place in anyone's exercise program, you just have to understand its uses. The great thing about calistening is that it's absolutely free. All you have to have is to ground you walk on any park with bars. The only time you have to spend money is from buying things like suspension systems or gymnastics rings. For beginners, body weight exercises will provide all the necessary compound movements that are usually found in a beginner program, and doesn't require you to motivate yourself to go to the gym. So if you do calistnings and you like your results, stick with it. If you feel like you're starting to hit a wall, then it's time to move up to weights. Ask your health and fitness questions in the comments below. Please check us out on Patreon and like and subscribe. Thanks for watching.\n",
            "Transcribing: /content/speech_recognizer_whisper/data/LISTEN to Your SECRET VOICE..wav\n"
          ]
        },
        {
          "output_type": "stream",
          "name": "stderr",
          "text": [
            "/usr/local/lib/python3.12/dist-packages/whisper/transcribe.py:132: UserWarning: FP16 is not supported on CPU; using FP32 instead\n",
            "  warnings.warn(\"FP16 is not supported on CPU; using FP32 instead\")\n"
          ]
        },
        {
          "output_type": "stream",
          "name": "stdout",
          "text": [
            "Transcript:  Let me tell you about a voice. Not this voice. But the one inside. The one that whispers. It tells me what's right and what's not. When to leave and where to go. It's not Shakespeare. It does not speak in memorable lines. My inner voice always gives it to me straight. Telled me who my real friends are. When to say yes. When to say no. Whether the person sitting next to me is the one I'll be spending the rest of my life with. Or not. Sometimes that voice is crystal clear. Go. Stay. Right. Wrong. Sometimes it nearly whispers. Don't let it drown in a noisy world. Because in the end, no man will run for on the rhythm. No switch right for you. Always trust your inner voice.\n",
            "Transcribing: /content/speech_recognizer_whisper/data/Learn Italian 🇮🇹 #italia #learnitalian #italy #stories#italy#shorts.wav\n"
          ]
        },
        {
          "output_type": "stream",
          "name": "stderr",
          "text": [
            "/usr/local/lib/python3.12/dist-packages/whisper/transcribe.py:132: UserWarning: FP16 is not supported on CPU; using FP32 instead\n",
            "  warnings.warn(\"FP16 is not supported on CPU; using FP32 instead\")\n"
          ]
        },
        {
          "output_type": "stream",
          "name": "stdout",
          "text": [
            "Transcript:  La mia famiglia è molto importante per me. Siamo in 4, mio padre, mio amadre, mio fratello e io. Mi o padre lavora in uno fico. È una persona calma e gentile. Mi amadre e casalinga. Lei è molto brava a cucinare. Prepara sempre piatti deliziosi per noi. Mi o fratello è più giovane di me. Lui va a scuola e amagiocare a calcio. Io invece mi piace studiare aiutare la mia famiglia.\n"
          ]
        }
      ]
    },
    {
      "cell_type": "code",
      "source": [
        "import whisper\n",
        "import os\n",
        "import textwrap\n",
        "model = whisper.load_model(\"base\")\n",
        "\n"
      ],
      "metadata": {
        "colab": {
          "base_uri": "https://localhost:8080/"
        },
        "id": "2uBOfyhJBo9A",
        "outputId": "9aca55f9-17f3-4c4e-cbba-4472efc61bbe"
      },
      "execution_count": 4,
      "outputs": [
        {
          "output_type": "stream",
          "name": "stderr",
          "text": [
            "100%|████████████████████████████████████████| 139M/139M [00:00<00:00, 148MiB/s]\n"
          ]
        }
      ]
    },
    {
      "cell_type": "code",
      "source": [
        "import os\n",
        "import textwrap"
      ],
      "metadata": {
        "id": "VxstHjCZCBrf"
      },
      "execution_count": 8,
      "outputs": []
    },
    {
      "cell_type": "code",
      "source": [
        "audio_files = {f: os.path.join(folder_location, f) for f in os.listdir(folder_location) if f.endswith(\".wav\")}\n"
      ],
      "metadata": {
        "id": "MtUS2YcQB-4o"
      },
      "execution_count": 12,
      "outputs": []
    },
    {
      "cell_type": "code",
      "source": [
        "for audio_filename,audio_path in audio_files.items():\n",
        "  print(f\"Transcribing: {audio_filename}\")\n",
        ""
      ],
      "metadata": {
        "colab": {
          "base_uri": "https://localhost:8080/"
        },
        "id": "rYN-bPSJEmQ_",
        "outputId": "e4d0381e-0e84-4454-ca44-b1c6fe96221a"
      },
      "execution_count": 13,
      "outputs": [
        {
          "output_type": "stream",
          "name": "stdout",
          "text": [
            "Transcribing: LISTEN to Your SECRET VOICE..wav\n",
            "Transcribing: Learn Italian 🇮🇹 #italia #learnitalian #italy #stories#italy#shorts.wav\n",
            "Transcribing: Don’t take it PERSONALLY💯 #mindset #tamilmotivation #trending #shorts #motivation #tamil.wav\n",
            "Transcribing: If by Rudyard Kipling - Read by Sir Michael Caine.wav\n",
            "Transcribing: Calisthenics Explained - Are Bodyweight Exercises Good For Building Muscle？.wav\n",
            "Transcribing: Introduction - Japanese Lesson 1.wav\n"
          ]
        }
      ]
    },
    {
      "cell_type": "code",
      "source": [
        "\n",
        "for audio_filename,audio_path in audio_files.items():\n",
        "    result = model.transcribe(audio_path, task=\"translate\")\n",
        "    output_text = textwrap.fill(result['text'], width=80)\n",
        "    print(f\"Transcript (English) for {audio_filename}: \\n {output_text}\")\n",
        "    print(\"=\" * (80 + 4))"
      ],
      "metadata": {
        "colab": {
          "base_uri": "https://localhost:8080/"
        },
        "id": "81zefPC9AyoR",
        "outputId": "b6bdc838-9f7e-4221-f716-30f82bcadead"
      },
      "execution_count": 14,
      "outputs": [
        {
          "output_type": "stream",
          "name": "stderr",
          "text": [
            "/usr/local/lib/python3.12/dist-packages/whisper/transcribe.py:132: UserWarning: FP16 is not supported on CPU; using FP32 instead\n",
            "  warnings.warn(\"FP16 is not supported on CPU; using FP32 instead\")\n"
          ]
        },
        {
          "output_type": "stream",
          "name": "stdout",
          "text": [
            "Transcript (English) for LISTEN to Your SECRET VOICE..wav: \n",
            "  Let me tell you about a voice. Not this voice, but the one inside. The one that\n",
            "whispers. It tells me what's right and what's not. When to leave and where to\n",
            "go. It's not Shakespeare. It does not speak in memorable lines. My inner voice\n",
            "always gives it to me straight. Tells me who my real dreams are. When to say\n",
            "yes. When to say no. Whether the person sitting next to me is the one I'll be\n",
            "spending the rest of my life with. Or not. Sometimes that voice is crystal\n",
            "clear. Go. Stay. Right. Wrong. Sometimes it nearly whispers. Don't let it drown\n",
            "in a noisy world. Because in the end, no man, woman or alnoretham knows what's\n",
            "right for you. Always trust your inner voice.\n",
            "====================================================================================\n"
          ]
        },
        {
          "output_type": "stream",
          "name": "stderr",
          "text": [
            "/usr/local/lib/python3.12/dist-packages/whisper/transcribe.py:132: UserWarning: FP16 is not supported on CPU; using FP32 instead\n",
            "  warnings.warn(\"FP16 is not supported on CPU; using FP32 instead\")\n"
          ]
        },
        {
          "output_type": "stream",
          "name": "stdout",
          "text": [
            "Transcript (English) for Learn Italian 🇮🇹 #italia #learnitalian #italy #stories#italy#shorts.wav: \n",
            "  My family is very important for me. We are in four, my father, my mother, my\n",
            "brother and I. My father works in a workshop. It's a calm and gentle person. My\n",
            "mother is a housewife. She is very good at cooking. She always prepares\n",
            "delicious dishes for us. My brother is younger than me. He goes to school and\n",
            "plays football. I enjoy studying and helping my family.\n",
            "====================================================================================\n"
          ]
        },
        {
          "output_type": "stream",
          "name": "stderr",
          "text": [
            "/usr/local/lib/python3.12/dist-packages/whisper/transcribe.py:132: UserWarning: FP16 is not supported on CPU; using FP32 instead\n",
            "  warnings.warn(\"FP16 is not supported on CPU; using FP32 instead\")\n"
          ]
        },
        {
          "output_type": "stream",
          "name": "stdout",
          "text": [
            "Transcript (English) for Don’t take it PERSONALLY💯 #mindset #tamilmotivation #trending #shorts #motivation #tamil.wav: \n",
            "  I wasn't a person anymore. Under that, I was a guy, Audience went to the office\n",
            "with a car Around the car office I read some things and liked these things on my\n",
            "phone. I was in a team of account in next day's car But I had to get rek春 test I\n",
            "called her at my mother's car We just watched it and was told the same person\n",
            "Same situation in bed Same things happened This thing passed between my legs It\n",
            "was a super Bangalore news I saw English movie, They are saying that they are\n",
            "going to hurt Ash, Goma and other people. They are saying that they are going to\n",
            "hurt Ash. It had nothing to do about you but it has everything to do about them.\n",
            "The problem is that they are going to get a cut. Because happy people spread\n",
            "happiness. Third people hurt others. If they are going to hurt Ash, they are\n",
            "going to get a cut. So don't take it personally. Let it go.\n",
            "====================================================================================\n"
          ]
        },
        {
          "output_type": "stream",
          "name": "stderr",
          "text": [
            "/usr/local/lib/python3.12/dist-packages/whisper/transcribe.py:132: UserWarning: FP16 is not supported on CPU; using FP32 instead\n",
            "  warnings.warn(\"FP16 is not supported on CPU; using FP32 instead\")\n"
          ]
        },
        {
          "output_type": "stream",
          "name": "stdout",
          "text": [
            "Transcript (English) for If by Rudyard Kipling - Read by Sir Michael Caine.wav: \n",
            "  The Kipling Power is one of my favorites since I was a boy at school. My father\n",
            "read it to me once and I think it to me is a little boy. Somewhat a man should\n",
            "be. If you can keep your head when all about you are losing theirs and blaming\n",
            "it on you. If you can trust yourself when all men doubt you but make allowances\n",
            "for their doubting too. If you can wait and not be tired by waiting or being\n",
            "lied about it don't deal in lies. Or being hated don't give way to hating and\n",
            "yet don't look too good or look too wise. If you can dream and not make dreams\n",
            "your master. If you can think and not make thoughts your aim. If you can meet\n",
            "with triumph and disaster and treat those two imposterous, just the same. If you\n",
            "can hear the truth you spoken twisted by names to make a trap for fools. Or\n",
            "watch the things you gave your life for broken and stoop and build them up with\n",
            "worn out tools. If you can make one heap of all your winnings and risk it on one\n",
            "turn of pitch and toss. And loose and start again at the beginning and never\n",
            "breathe a word about your loss. If you can force your heart and nerve and sin\n",
            "you to serve your turn long after they are done. And so hold on when there is\n",
            "nothing in you except the will which says to them. Hold on. If you can talk with\n",
            "crowds and keep your virtue or walk with kings and lose the common touch. If\n",
            "neither foes nor loving friends can hurt you if all men count with you but not\n",
            "too much. If you can fill the unforgiving minute with forty seconds worth of\n",
            "distance run. Yours is the earth and everything that's in it and which is more\n",
            "you'll be a man my son.\n",
            "====================================================================================\n"
          ]
        },
        {
          "output_type": "stream",
          "name": "stderr",
          "text": [
            "/usr/local/lib/python3.12/dist-packages/whisper/transcribe.py:132: UserWarning: FP16 is not supported on CPU; using FP32 instead\n",
            "  warnings.warn(\"FP16 is not supported on CPU; using FP32 instead\")\n"
          ]
        },
        {
          "output_type": "stream",
          "name": "stdout",
          "text": [
            "Transcript (English) for Calisthenics Explained - Are Bodyweight Exercises Good For Building Muscle？.wav: \n",
            "  Exercises that uses only the weight of your body as resistance are known as\n",
            "calisthenics. And just as any other resistance training, the golden performing\n",
            "calisthenics is to promote muscle growth and strength. Originating from the\n",
            "Greek word calo, which means beauty, and stenos, which means strength,\n",
            "calisthenics rose into prominence in the 19th century by the father of\n",
            "gymnastics, free week, Louis John. And fitting enough, there's nothing really\n",
            "that is a better embodiment of beauty and strength than gymnastics. As\n",
            "calisthenics uses your body's weight as resistance, it's also known as body\n",
            "weight exercises. And the big question about body weight exercises is how\n",
            "effective it is for building muscle and strength, or if it's as effective as\n",
            "lifting weights. To understand this, we need to understand how muscles grow and\n",
            "get stronger. Muscular and strength adaptation occurs when a stimulus or\n",
            "resistance is applied to the corresponding muscle at a high enough intensity to\n",
            "invoke muscle overload. Simply put, the more weight you move with your muscles,\n",
            "the more your muscles adapt and become bigger and stronger. And it doesn't mean\n",
            "that any type of weight movement will work. Take jogging, for example, although\n",
            "it can be very taxing on the heart muscles and promote cardiac muscle growth, it\n",
            "will not promote much skeletal muscle growth, not even in your legs. The problem\n",
            "here is that the stimulus is not strong enough to target all the legs muscle\n",
            "fibers. If you watched the muscle fibers video before, you will understand that\n",
            "we have three different muscle fiber types, one of which is used for endurance\n",
            "known as type 1, and the other two are used to provide great amounts of force\n",
            "known as type 2 fibers. Since running doesn't require large amounts of force\n",
            "from your legs, type 2 fibers are hardly fatigued and not a lot of muscle growth\n",
            "occurs. It's also the reason why many do not consider jogging as the\n",
            "calisthenics exercise even though it only utilizes your body's weight. But other\n",
            "calisthenics exercises do, in fact, it listed high enough of a demand to hit\n",
            "those large muscle fibers. Take a pull up, for example, we're on average, people\n",
            "can hardly even do five. The movement demands all fiber types do fire and\n",
            "eventually exhaust, thus promoting muscle growth. Pushups are another good\n",
            "example of a calisthenics exercise that can enlist muscle growth, especially for\n",
            "beginners that struggle to do even 10. But eventually you will run into the\n",
            "problem of not having enough resistance. As tough as it may be to get your first\n",
            "10 pushups, eventually 10 would be just an easy warmup. When you start hitting\n",
            "20, 25, or 30 pushups easily, then we run into the same problem as we saw with\n",
            "jogging. Of course, you can definitely modify the pushup to make it tougher,\n",
            "such as elevating your feet on a platform, but ultimately you're not changing\n",
            "the amount of demand on the muscle groups involved in a standard pushup. Instead\n",
            "you begin shifting the muscles involved in the movement. If feet elevated\n",
            "pushups, your anterior shoulders begin taking the brunt of the resistance\n",
            "instead of your chest. So if you wanted to build your chest, you won't have\n",
            "enough resistance, and you might be thinking why not just add some weight on\n",
            "your back? While at that point, it's no longer just body weight, thus no longer\n",
            "calisthenics. The next natural progression is using weights. As great as\n",
            "calisthenics can be, there will be a point where certain muscle groups,\n",
            "especially the strong muscle groups such as your chest, legs, and hips, will\n",
            "eventually need greater resistance. Also since calisthenics require you using\n",
            "multiple muscle groups to perform an exercise, which isn't a bad thing at all in\n",
            "terms of natural and functional development, but it does make it tough to\n",
            "isolate certain muscles. Now that's not to say that calisthenics cannot build in\n",
            "aesthetically appealing body. After all you have guys looking like this, from\n",
            "performing just body weight exercises, but when you compare them to this,\n",
            "there's a clear difference in muscle growth between the two regimens. Heck, even\n",
            "Olympic gymnasts have to use weights to push their maximum potential. This is\n",
            "not to say that calisthenics has no place in anyone's exercise program, you just\n",
            "have to understand its uses. The great thing about calisthenics is that it's\n",
            "absolutely free. All you have to have is the ground you walk on any park with\n",
            "bars. The only time you have to spend money is from buying things like\n",
            "suspension systems or gymnastic rings. For beginners, body weight exercises will\n",
            "provide all the necessary compound movements that are usually found in a\n",
            "beginner program, and doesn't require you to motivate yourself to go to the gym.\n",
            "So if you do calisthenics and you like your results, stick with it. If you feel\n",
            "like you're starting to hit a wall, then it's time to move up to weights. Ask\n",
            "your health and fitness questions in the comments below. Please check us out on\n",
            "Patreon and like and subscribe. Thanks for watching.\n",
            "====================================================================================\n"
          ]
        },
        {
          "output_type": "stream",
          "name": "stderr",
          "text": [
            "/usr/local/lib/python3.12/dist-packages/whisper/transcribe.py:132: UserWarning: FP16 is not supported on CPU; using FP32 instead\n",
            "  warnings.warn(\"FP16 is not supported on CPU; using FP32 instead\")\n"
          ]
        },
        {
          "output_type": "stream",
          "name": "stdout",
          "text": [
            "Transcript (English) for Introduction - Japanese Lesson 1.wav: \n",
            "  Let's start today's lesson. Today we are going to learn breathing. First one is\n",
            "morning casual. Oh, hi-yo. Sounds like a little bit. Please repeat. Oh, hi-yo.\n",
            "Oh, hi-yo. Oh, hi-yo. Formal is, Ohai-yo plus, Gozaimasu. Okay, put together,\n",
            "Ohai-yo, gozaimasu. Ohai-yo, gozaimasu. Ohai-yo, gozaimasu. Ohai-yo, gozaimasu.\n",
            "Good afternoon. Good afternoon. Good afternoon. Good afternoon. Good evening.\n",
            "Good evening. Good evening. Good evening. Good evening. Good evening. Great\n",
            "evening. Good evening. Good night. Good night. Good bit. How about this? Good\n",
            "night! Oyasumina-sai! Oyasumina-sai! Thank you for the casual one. Thank you!\n",
            "Then, do you remember this one? Good morning, casual one. Hi! Ohayou! How about\n",
            "the formal one? Ohayou,ございます! Then, can you guess? Thank you for the formal one.\n",
            "Thank you! Hi! Thank you! Thank you! Thank you! Excuse me, I'm sorry. Sumimasen!\n",
            "Okay, let's practice. Sumimasen! Sumimasen! Sumimasen! Okay, the longest one.\n",
            "How do you do? Nice to meet you. Hajime-mashite! Dozo-yoro-sikun! Let's practice\n",
            "how do you do first? Hajime-mashite! Hajime-mashite! Nice to meet you! Dozo-\n",
            "yoro-sikun! Dozo! Dozo! Dozo! Yoro-sikun! Yoro-sikun! Yoro-sikun! Okay, put the\n",
            "two together. Dozo-yoro-sikun! Dozo-yoro-sikun! Dozo-yoro-sikun! Okay, ready?\n",
            "Put the two together. Hajime-mashite! Dozo-yoro-sikun! Hajime-mashite! Dozo-\n",
            "yoro-sikun! Hajime-mashite! Dozo-yoro-sikun! Okay, then let's practice together.\n",
            "Haman-tisun! Konbanwa! Arigato! Haman-tformal one! Arigato-gosai-mash!\n",
            "Konnichiwa! Sumimasen! Oyasumi-dasei! Sayonara! Konbanwa! Formal one! Ohaio-\n",
            "gosai-mash! Okay, the longest one! Hajime-mashite! Dozo-yoro-sikun! Do you\n",
            "remember, oh? That's all for today! See you at Japan Society! Japan Society,\n",
            "let's go!\n",
            "====================================================================================\n"
          ]
        }
      ]
    }
  ]
}